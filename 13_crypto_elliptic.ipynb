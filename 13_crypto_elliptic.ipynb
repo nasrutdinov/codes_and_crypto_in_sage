{
 "cells": [
  {
   "cell_type": "markdown",
   "metadata": {},
   "source": [
    "###  Эллиптические кривые над конечными полями"
   ]
  },
  {
   "cell_type": "markdown",
   "metadata": {},
   "source": [
    "In Sage, an elliptic curve is always specified by (the coefficients of) a long Weierstrass equation\n",
    "\n",
    "$$y^2+a_1 xy + a_3 y = x^3 + a_2x^2+ a_4 x + a_6$$\n",
    "\n",
    "- EllipticCurve([a1,a2,a3,a4,a6]): Elliptic curve with given a-invariants. The invariants are coerced into a common parent. If all are integers, they are coerced into the rational numbers.\n",
    "- EllipticCurve([a4,a6]): Same as above, but a1=a3=a2=0.\n",
    "- EllipticCurve(R, [a1,a2,a3,a4,a6]): Create the elliptic curve over R. Here R can be an arbitrary commutative ring, although most functionality is only implemented over fields."
   ]
  },
  {
   "cell_type": "code",
   "execution_count": 1,
   "metadata": {},
   "outputs": [
    {
     "data": {
      "text/plain": [
       "Elliptic Curve defined by y^2 = x^3 + 2*x + 3 over Finite Field of size 101"
      ]
     },
     "execution_count": 1,
     "metadata": {},
     "output_type": "execute_result"
    }
   ],
   "source": [
    "EC0=EllipticCurve(GF(101),[2,3]);EC0"
   ]
  },
  {
   "cell_type": "code",
   "execution_count": 2,
   "metadata": {},
   "outputs": [
    {
     "data": {
      "text/plain": [
       "96"
      ]
     },
     "execution_count": 2,
     "metadata": {},
     "output_type": "execute_result"
    }
   ],
   "source": [
    "EC0.count_points()"
   ]
  },
  {
   "cell_type": "code",
   "execution_count": 3,
   "metadata": {},
   "outputs": [
    {
     "data": {
      "text/plain": [
       "Additive abelian group isomorphic to Z/96 embedded in Abelian group of points on Elliptic Curve defined by y^2 = x^3 + 2*x + 3 over Finite Field of size 101"
      ]
     },
     "execution_count": 3,
     "metadata": {},
     "output_type": "execute_result"
    }
   ],
   "source": [
    "EC0.abelian_group()"
   ]
  },
  {
   "cell_type": "code",
   "execution_count": 4,
   "metadata": {},
   "outputs": [
    {
     "data": {
      "text/plain": [
       "(10 : 35 : 1)"
      ]
     },
     "execution_count": 4,
     "metadata": {},
     "output_type": "execute_result"
    }
   ],
   "source": [
    "EC0.an_element()"
   ]
  },
  {
   "cell_type": "code",
   "execution_count": 5,
   "metadata": {},
   "outputs": [
    {
     "data": {
      "text/plain": [
       "(10 : 35 : 1)"
      ]
     },
     "execution_count": 5,
     "metadata": {},
     "output_type": "execute_result"
    }
   ],
   "source": [
    "# Задание точек кривой\n",
    "#G = EC0(41,15); G\n",
    "G = EC0(10,35); G"
   ]
  },
  {
   "cell_type": "code",
   "execution_count": 6,
   "metadata": {},
   "outputs": [
    {
     "data": {
      "text/plain": [
       "True"
      ]
     },
     "execution_count": 6,
     "metadata": {},
     "output_type": "execute_result"
    }
   ],
   "source": [
    "G in EC0"
   ]
  },
  {
   "cell_type": "code",
   "execution_count": 7,
   "metadata": {},
   "outputs": [
    {
     "data": {
      "text/plain": [
       "(23 : 46 : 1)"
      ]
     },
     "execution_count": 7,
     "metadata": {},
     "output_type": "execute_result"
    }
   ],
   "source": [
    "P=G*18; P"
   ]
  },
  {
   "cell_type": "code",
   "execution_count": 8,
   "metadata": {},
   "outputs": [
    {
     "data": {
      "text/plain": [
       "True"
      ]
     },
     "execution_count": 8,
     "metadata": {},
     "output_type": "execute_result"
    }
   ],
   "source": [
    "P in EC0"
   ]
  },
  {
   "cell_type": "code",
   "execution_count": null,
   "metadata": {},
   "outputs": [],
   "source": [
    "#G = EC0(440, 539); G\n",
    "#G in EC0"
   ]
  },
  {
   "cell_type": "code",
   "execution_count": null,
   "metadata": {},
   "outputs": [],
   "source": [
    "# Нельзя просто написать G = EC(441, 539); G\n",
    "# Если точки не принадлежат кривой, то будет сообщение об ошибке  \n",
    "# G in EC"
   ]
  },
  {
   "cell_type": "code",
   "execution_count": 9,
   "metadata": {},
   "outputs": [
    {
     "name": "stdout",
     "output_type": "stream",
     "text": [
      "[(0 : 1 : 0), (1 : 39 : 1), (1 : 62 : 1), (3 : 6 : 1), (3 : 95 : 1), (5 : 21 : 1), (5 : 80 : 1), (9 : 12 : 1), (9 : 89 : 1), (10 : 35 : 1), (10 : 66 : 1), (11 : 12 : 1), (11 : 89 : 1), (13 : 2 : 1), (13 : 99 : 1), (17 : 1 : 1), (17 : 100 : 1), (18 : 35 : 1), (18 : 66 : 1), (20 : 8 : 1), (20 : 93 : 1), (21 : 32 : 1), (21 : 69 : 1), (23 : 46 : 1), (23 : 55 : 1), (25 : 15 : 1), (25 : 86 : 1), (27 : 34 : 1), (27 : 67 : 1), (30 : 46 : 1), (30 : 55 : 1), (35 : 15 : 1), (35 : 86 : 1), (40 : 7 : 1), (40 : 94 : 1), (41 : 15 : 1), (41 : 86 : 1), (44 : 43 : 1), (44 : 58 : 1), (47 : 30 : 1), (47 : 71 : 1), (48 : 46 : 1), (48 : 55 : 1), (49 : 40 : 1), (49 : 61 : 1), (50 : 41 : 1), (50 : 60 : 1), (52 : 27 : 1), (52 : 74 : 1), (56 : 30 : 1), (56 : 71 : 1), (57 : 50 : 1), (57 : 51 : 1), (60 : 36 : 1), (60 : 65 : 1), (61 : 19 : 1), (61 : 82 : 1), (62 : 14 : 1), (62 : 87 : 1), (63 : 10 : 1), (63 : 91 : 1), (64 : 33 : 1), (64 : 68 : 1), (66 : 36 : 1), (66 : 65 : 1), (67 : 18 : 1), (67 : 83 : 1), (69 : 20 : 1), (69 : 81 : 1), (73 : 35 : 1), (73 : 66 : 1), (76 : 36 : 1), (76 : 65 : 1), (79 : 44 : 1), (79 : 57 : 1), (81 : 12 : 1), (81 : 89 : 1), (84 : 45 : 1), (84 : 56 : 1), (85 : 4 : 1), (85 : 97 : 1), (90 : 8 : 1), (90 : 93 : 1), (92 : 8 : 1), (92 : 93 : 1), (93 : 9 : 1), (93 : 92 : 1), (95 : 49 : 1), (95 : 52 : 1), (96 : 26 : 1), (96 : 75 : 1), (98 : 24 : 1), (98 : 77 : 1), (99 : 30 : 1), (99 : 71 : 1), (100 : 0 : 1)]\n"
     ]
    }
   ],
   "source": [
    "print([g for g in EC0])"
   ]
  },
  {
   "cell_type": "markdown",
   "metadata": {},
   "source": [
    "## Разбор примера \n",
    "\n",
    "Источник: Жданов О.Н., Чалкин В.А. Эллиптические кривые: Основы теории и криптографические приложения"
   ]
  },
  {
   "cell_type": "markdown",
   "metadata": {},
   "source": [
    "### Аналог системы Эль-Гамаля.\n",
    "\n",
    "В открытом доступе публикуются параметры группы эллиптической кривой, то есть $E_p(a,b)$, и точки-«основания» $G$ на ней. \n",
    "\n",
    "Каждый из пользователей выбирает случайное целое число $x$, которое держит в секрете, затем находит и делает общедоступной точку $xG$. \n",
    "\n",
    "Пусть $Pb=nb*G$ -- открытый ключ Боба ($nb$ - секретное число, придуманное Бобом)  \n",
    "\n",
    "Чтобы послать Бобу сообщение $M$, Алиса выбирает случайно целое число $k$ и посылает пару точек $(kG, M + k* Pb) = (C1,C2)$.\n",
    "\n",
    "Чтобы прочитать сообщение, Боб умножает первую точку из полученной пары на свое секретное число $nb$ и вычитает результат умножения из второй точки: $C2 - nb*C1 = M$.\n"
   ]
  },
  {
   "cell_type": "code",
   "execution_count": 10,
   "metadata": {},
   "outputs": [
    {
     "data": {
      "text/plain": [
       "Elliptic Curve defined by y^2 = x^3 + 750*x + 1 over Finite Field of size 751"
      ]
     },
     "execution_count": 10,
     "metadata": {},
     "output_type": "execute_result"
    }
   ],
   "source": [
    "#Задание группы эллиптической кривой над поле из 751 элемента \n",
    "EC=EllipticCurve(GF(751),[-1,1]); EC"
   ]
  },
  {
   "cell_type": "code",
   "execution_count": 11,
   "metadata": {},
   "outputs": [
    {
     "data": {
      "text/plain": [
       "728"
      ]
     },
     "execution_count": 11,
     "metadata": {},
     "output_type": "execute_result"
    }
   ],
   "source": [
    "EC.count_points()"
   ]
  },
  {
   "cell_type": "code",
   "execution_count": null,
   "metadata": {},
   "outputs": [],
   "source": [
    "#Пример элемента\n",
    "G = EC(0, 1); G"
   ]
  },
  {
   "cell_type": "code",
   "execution_count": 12,
   "metadata": {},
   "outputs": [],
   "source": [
    "#Схема шифрования C = (C1, C2) = {kG, M + kPb}\n",
    "def MyEncoder(G, Pb, k, M):\n",
    "    return (k*G, M+k*Pb)"
   ]
  },
  {
   "cell_type": "code",
   "execution_count": null,
   "metadata": {},
   "outputs": [],
   "source": [
    "# Случайное значение, выбранное A\n",
    "k = 3\n",
    "# Открытый ключ B\n",
    "Pb = EC(406, 397)\n",
    "# Секретный ключ B \n",
    "nb=45\n",
    "# Находим код символа, который передаем, в таблице \n",
    "M=EC(66,552)\n",
    "# Пара для передачи\n",
    "C1,C2=(k*G, M+k*Pb); (C1,C2)"
   ]
  },
  {
   "cell_type": "code",
   "execution_count": 13,
   "metadata": {},
   "outputs": [],
   "source": [
    "#Схема декодирования M = (M + kPb) – nb*(kG)  = C2 - nb*C1\n",
    "def MyDecoder(C1, C2, nb):\n",
    "    return C2-nb*C1"
   ]
  },
  {
   "cell_type": "code",
   "execution_count": null,
   "metadata": {},
   "outputs": [],
   "source": [
    "DM=MyDecoder(C1,C2, nb)\n",
    "print(DM)"
   ]
  },
  {
   "cell_type": "code",
   "execution_count": null,
   "metadata": {},
   "outputs": [],
   "source": [
    "parent(DM)"
   ]
  },
  {
   "cell_type": "code",
   "execution_count": null,
   "metadata": {},
   "outputs": [],
   "source": [
    "type(DM)"
   ]
  },
  {
   "cell_type": "code",
   "execution_count": null,
   "metadata": {},
   "outputs": [],
   "source": [
    "DM[0], DM[1]"
   ]
  },
  {
   "cell_type": "code",
   "execution_count": 14,
   "metadata": {},
   "outputs": [],
   "source": [
    "# Символы алфавита закодированы элементами группы\n",
    "alpha={(228, 271):\"а\", (228, 480):\"б\", (229, 151):\"в\", (229, 600):\"г\", (234, 164):\"д\", \n",
    "       (234, 587):\"е\", (235, 19):\"ж\", (235, 732):\"з\", (236, 39):\"и\", (236, 712):\"й\", \n",
    "       (237, 297):\"к\", (237, 454):\"л\", (238, 175):\"м\", (238, 576):\"н\", (240, 309):\"о\", \n",
    "       (240, 442):\"п\", (243, 87):\"р\", (243, 664):\"с\", (247, 266):\"т\", (247, 485):\"у\", \n",
    "       (249, 183):\"ф\", (249, 568):\"х\", (250, 14):\"ц\", (250, 737):\"ч\", (251, 245):\"ш\", \n",
    "       (251, 506):\"щ\", (253, 211):\"ъ\", (253, 540):\"ы\", (256, 121):\"ь\", (256, 630):\"э\", \n",
    "       (257, 293):\"ю\", (257, 458):\"я\"}"
   ]
  },
  {
   "cell_type": "code",
   "execution_count": null,
   "metadata": {},
   "outputs": [],
   "source": [
    "#alpha[(257, 458)] = 'я'"
   ]
  },
  {
   "cell_type": "code",
   "execution_count": 15,
   "metadata": {},
   "outputs": [],
   "source": [
    "# Используется кривая E(751, 1,1) и генерирующая точка G = (–1, 1)\n",
    "# Зная секретный ключ nb, расшифровать сообщение M\n",
    "\n",
    "# Закрытый ключ\n",
    "nb=29\n",
    "# Шифртекст\n",
    "Message=[ [(440, 539), (128, 672)],  [(489, 468), (282, 341)], [(489, 468), (45, 720)],  [(72, 254), (227, 299)], \n",
    "         [(188, 93), (251, 506)],  [(72, 254), (319, 518)],  [(745, 210), (129, 659)],  [(286, 136), (515, 684)], \n",
    "         [(568, 355), (395, 414)]]"
   ]
  },
  {
   "cell_type": "code",
   "execution_count": 16,
   "metadata": {},
   "outputs": [
    {
     "name": "stdout",
     "output_type": "stream",
     "text": [
      "228 480 б\n",
      "228 271 а\n",
      "243 87 р\n",
      "249 568 х\n",
      "228 271 а\n",
      "247 266 т\n",
      "238 576 н\n",
      "253 540 ы\n",
      "236 712 й\n"
     ]
    }
   ],
   "source": [
    "message=[]\n",
    "for x in Message:\n",
    "    C2=EC(x[1])\n",
    "    C1=EC(x[0])\n",
    "    DM=MyDecoder(C1, C2, nb)\n",
    "    message.append(alpha[(DM[0], DM[1])])\n",
    "    print(DM[0], DM[1], alpha[(DM[0], DM[1])])"
   ]
  },
  {
   "cell_type": "code",
   "execution_count": 17,
   "metadata": {},
   "outputs": [
    {
     "data": {
      "text/plain": [
       "'бархатный'"
      ]
     },
     "execution_count": 17,
     "metadata": {},
     "output_type": "execute_result"
    }
   ],
   "source": [
    "\"\".join(message)"
   ]
  },
  {
   "cell_type": "code",
   "execution_count": null,
   "metadata": {},
   "outputs": [],
   "source": []
  }
 ],
 "metadata": {
  "kernelspec": {
   "display_name": "SageMath 9.3",
   "language": "sage",
   "name": "sagemath"
  },
  "language_info": {
   "codemirror_mode": {
    "name": "ipython",
    "version": 3
   },
   "file_extension": ".py",
   "mimetype": "text/x-python",
   "name": "python",
   "nbconvert_exporter": "python",
   "pygments_lexer": "ipython3",
   "version": "3.7.10"
  }
 },
 "nbformat": 4,
 "nbformat_minor": 4
}

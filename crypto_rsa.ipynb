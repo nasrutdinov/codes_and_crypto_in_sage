{
 "cells": [
  {
   "cell_type": "markdown",
   "metadata": {},
   "source": [
    "## Naive RSA I"
   ]
  },
  {
   "cell_type": "code",
   "execution_count": 12,
   "metadata": {},
   "outputs": [
    {
     "name": "stdout",
     "output_type": "stream",
     "text": [
      "108995166362533529922978582383997823451\n"
     ]
    }
   ],
   "source": [
    "# Случайные простые числа\n",
    "p, q = random_prime(2^64), random_prime(2^64)\n",
    "n = p*q\n",
    "# Кольцо вычетов \n",
    "ZZn = IntegerModRing(n)\n",
    "print(n)"
   ]
  },
  {
   "cell_type": "code",
   "execution_count": 13,
   "metadata": {},
   "outputs": [
    {
     "name": "stdout",
     "output_type": "stream",
     "text": [
      "Шифрующая экспонента 5\n",
      "Дешифрующая экспонента 21799033272506705979828836306753267261\n"
     ]
    }
   ],
   "source": [
    "# Функция Эйлера от n\n",
    "r = (p-1)*(q-1)\n",
    "ZZr = IntegerModRing(r)\n",
    "# Поиск обратимого по модулю r элемента \n",
    "# Можно выбрать случайное e = ZZ.random_element(r)\n",
    "# В примере берем маленький показатель в качестве открытого ключа\n",
    "E=5\n",
    "\n",
    "while gcd(E, r) != 1:\n",
    "    E=E+1\n",
    "    #E = ZZ.random_element(r)\n",
    "print(\"Шифрующая экспонента\", E)\n",
    "#d = ZZr(e)^-1; \n",
    "d=~ZZr(E) \n",
    "print(\"Дешифрующая экспонента\", d)\n"
   ]
  },
  {
   "cell_type": "code",
   "execution_count": 14,
   "metadata": {},
   "outputs": [
    {
     "name": "stdout",
     "output_type": "stream",
     "text": [
      "38\n",
      "39\n"
     ]
    }
   ],
   "source": [
    "print(len(str(d)))\n",
    "print(len(str(n)))"
   ]
  },
  {
   "cell_type": "code",
   "execution_count": null,
   "metadata": {},
   "outputs": [],
   "source": [
    "d = ZZr(E)^-1; print(d)\n",
    "# d=~ZZr(e)"
   ]
  },
  {
   "cell_type": "code",
   "execution_count": 15,
   "metadata": {},
   "outputs": [
    {
     "name": "stdout",
     "output_type": "stream",
     "text": [
      "message  82464006241865666181013539935434258129\n",
      "encrypted message  78176800204795217253643787101325463036\n",
      "decrypted message  82464006241865666181013539935434258129\n"
     ]
    },
    {
     "data": {
      "text/plain": [
       "True"
      ]
     },
     "execution_count": 15,
     "metadata": {},
     "output_type": "execute_result"
    }
   ],
   "source": [
    "# Выберем случайное сообщение\n",
    "m = ZZn.random_element(); print(\"message \", m)\n",
    "# Закодируем его \n",
    "s = m^E; print(\"encrypted message \", s)\n",
    "print(\"decrypted message \", s^d)\n",
    "s^d == m "
   ]
  },
  {
   "cell_type": "markdown",
   "metadata": {},
   "source": [
    "### Модулярная арифметика"
   ]
  },
  {
   "cell_type": "code",
   "execution_count": null,
   "metadata": {},
   "outputs": [],
   "source": [
    "# Следущее простое число за 2011\n",
    "next_prime(2011)"
   ]
  },
  {
   "cell_type": "code",
   "execution_count": null,
   "metadata": {},
   "outputs": [],
   "source": [
    "# Обратный по умножению элемент к 5 по модулю 11\n",
    "n=11\n",
    "ZZn=IntegerModRing(n)\n",
    "a=ZZn(5); \n",
    "print(\"inverse \", ~a)\n",
    "#То же самое \n",
    "print(\"inverse \", a^(-1))"
   ]
  }
 ],
 "metadata": {
  "kernelspec": {
   "display_name": "SageMath 9.3",
   "language": "sage",
   "name": "sagemath"
  },
  "language_info": {
   "codemirror_mode": {
    "name": "ipython",
    "version": 3
   },
   "file_extension": ".py",
   "mimetype": "text/x-python",
   "name": "python",
   "nbconvert_exporter": "python",
   "pygments_lexer": "ipython3",
   "version": "3.7.10"
  }
 },
 "nbformat": 4,
 "nbformat_minor": 4
}

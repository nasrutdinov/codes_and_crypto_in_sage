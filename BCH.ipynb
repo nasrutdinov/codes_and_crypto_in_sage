{
 "cells": [
  {
   "cell_type": "markdown",
   "metadata": {},
   "source": [
    "## Коды Боуза-Чоудхури-Хоквингема (БЧХ-коды) "
   ]
  },
  {
   "cell_type": "markdown",
   "metadata": {},
   "source": [
    "### Построение БХЧ кода. \n",
    "\n",
    "Для того чтобы построить БЧХ-код длины $n$ над полем $GF(q)$, исправляющий $t$ ошибок (то есть расстояние $d=2t+1$) необходимо: \n",
    "\n",
    "1. Найти элемент $\\beta$ порядка $n$ в подходящем расширении $GF(q^m)$ ($m$ должен быть минимальным).\n",
    "\n",
    "2. Выбрать $d-1=2t$ последовательных степеней $\\beta$, начиная с некоторого $l \\ge 0$.\n",
    "\n",
    "3. В качестве порождающего многочлена $g(x)$ выбрать многочлен, который является  наименьшим общим кратным минимальных многочленов над полем $GF(q)$ элементов $\\beta^l, \\beta^{l+1}, \\ldots, \\beta^{l+d-2}$.\n"
   ]
  },
  {
   "cell_type": "markdown",
   "metadata": {},
   "source": [
    "### Пример\n",
    "\n",
    "Построим двоичный БЧХ код длины 31 с кодовыми расстоянием 5"
   ]
  },
  {
   "cell_type": "code",
   "execution_count": 1,
   "metadata": {},
   "outputs": [
    {
     "data": {
      "text/plain": [
       "Finite Field in a of size 2^5"
      ]
     },
     "execution_count": 1,
     "metadata": {},
     "output_type": "execute_result"
    }
   ],
   "source": [
    "#Создадим поле из 32 элементов как фактор кольцо кольца многочленов \n",
    "F.<a> = FiniteField(32); F"
   ]
  },
  {
   "cell_type": "markdown",
   "metadata": {},
   "source": [
    "По умолчанию неприводимый многочлен, по модулю которого строится поле - это полином Конвея. \n",
    "\n",
    "Список полиномов http://www.math.rwth-aachen.de/~Frank.Luebeck/data/ConwayPol/index.html \n",
    "\n",
    "Полином Конвея - это минимальный многочлен примитивного элемента. Поэтому элемент z будет примитивным "
   ]
  },
  {
   "cell_type": "code",
   "execution_count": 2,
   "metadata": {},
   "outputs": [
    {
     "data": {
      "text/plain": [
       "31"
      ]
     },
     "execution_count": 2,
     "metadata": {},
     "output_type": "execute_result"
    }
   ],
   "source": [
    "# Мультипликативный порядок\n",
    "a.multiplicative_order()"
   ]
  },
  {
   "cell_type": "code",
   "execution_count": 3,
   "metadata": {},
   "outputs": [
    {
     "data": {
      "text/plain": [
       "x^5 + x^2 + 1"
      ]
     },
     "execution_count": 3,
     "metadata": {},
     "output_type": "execute_result"
    }
   ],
   "source": [
    "# Минимальный полином для z\n",
    "f=a.minimal_polynomial(); f"
   ]
  },
  {
   "cell_type": "code",
   "execution_count": 4,
   "metadata": {},
   "outputs": [
    {
     "data": {
      "text/plain": [
       "x^5 + x^2 + 1"
      ]
     },
     "execution_count": 4,
     "metadata": {},
     "output_type": "execute_result"
    }
   ],
   "source": [
    "# Полином Конвея над полем Z_2 порядка 5\n",
    "conway_polynomial(2,5)"
   ]
  },
  {
   "cell_type": "markdown",
   "metadata": {},
   "source": [
    "Рассмотрим элементы $a, a^2, a^3, a^4$. Построим для них минимальные многочлены. \n",
    "\n",
    "Для того чтобы в дальнейшем Sage понимал, что построенные полиномы это объекты $Z_2[x]$ "
   ]
  },
  {
   "cell_type": "code",
   "execution_count": 5,
   "metadata": {},
   "outputs": [],
   "source": [
    "P.<x> = PolynomialRing(GF(2))"
   ]
  },
  {
   "cell_type": "code",
   "execution_count": 6,
   "metadata": {},
   "outputs": [],
   "source": [
    "f1=a.minimal_polynomial();\n",
    "f2=(a^2).minimal_polynomial();\n",
    "f3=(a^3).minimal_polynomial();\n",
    "f4=(a^4).minimal_polynomial();"
   ]
  },
  {
   "cell_type": "code",
   "execution_count": 7,
   "metadata": {},
   "outputs": [
    {
     "name": "stdout",
     "output_type": "stream",
     "text": [
      "x^5 + x^2 + 1\n",
      "x^5 + x^2 + 1\n",
      "x^5 + x^4 + x^3 + x^2 + 1\n",
      "x^5 + x^2 + 1\n"
     ]
    }
   ],
   "source": [
    "print(f1)\n",
    "print(f2)\n",
    "print(f3)\n",
    "print(f4)"
   ]
  },
  {
   "cell_type": "code",
   "execution_count": 8,
   "metadata": {},
   "outputs": [
    {
     "data": {
      "text/plain": [
       "x^10 + x^9 + x^8 + x^6 + x^5 + x^3 + 1"
      ]
     },
     "execution_count": 8,
     "metadata": {},
     "output_type": "execute_result"
    }
   ],
   "source": [
    "lcm(f1, f3)"
   ]
  },
  {
   "cell_type": "markdown",
   "metadata": {},
   "source": [
    "Циклотомические классы $\\beta \\in GF(q^m)$: это все различные $\\beta$, $\\beta^q$, ..., $\\beta^{q^s}$  \n",
    "\n",
    "Многочлен $(x-\\beta)(x-\\beta^q) ... (x- \\beta^{q^s}) \\in GF(q)[x]$ -- неприводимый над $GF(q)$"
   ]
  },
  {
   "cell_type": "code",
   "execution_count": 9,
   "metadata": {},
   "outputs": [],
   "source": [
    "# Вычисление циклотомических классов \n",
    "def func(x, q):\n",
    "    i=q\n",
    "    z=x^i\n",
    "    l=[x]\n",
    "    while not (z - x).is_zero(): \n",
    "        l.append(z)\n",
    "        i*=q\n",
    "        z=x^i        \n",
    "    return l "
   ]
  },
  {
   "cell_type": "code",
   "execution_count": 10,
   "metadata": {},
   "outputs": [
    {
     "name": "stdout",
     "output_type": "stream",
     "text": [
      "[a, a^2, a^4, a^3 + a^2 + 1, a^4 + a^3 + a + 1]\n"
     ]
    }
   ],
   "source": [
    "l=func(a,2)\n",
    "print(l)"
   ]
  },
  {
   "cell_type": "code",
   "execution_count": 11,
   "metadata": {},
   "outputs": [
    {
     "name": "stdout",
     "output_type": "stream",
     "text": [
      "(x-(a))*(x-(a^2))*(x-(a^4))*(x-(a^3 + a^2 + 1))*(x-(a^4 + a^3 + a + 1))\n"
     ]
    }
   ],
   "source": [
    "s=''\n",
    "for v in l:\n",
    "    s=s+'*(x-('+str(v)+\"))\"\n",
    "print(s[1:])"
   ]
  },
  {
   "cell_type": "code",
   "execution_count": 12,
   "metadata": {},
   "outputs": [
    {
     "data": {
      "text/plain": [
       "x^5 + x^2 + 1"
      ]
     },
     "execution_count": 12,
     "metadata": {},
     "output_type": "execute_result"
    }
   ],
   "source": [
    "(x-(a))*(x-(a^2))*(x-(a^4))*(x-(a^3 + a^2 + 1))*(x-(a^4 + a^3 + a + 1))"
   ]
  },
  {
   "cell_type": "code",
   "execution_count": 13,
   "metadata": {},
   "outputs": [
    {
     "data": {
      "text/plain": [
       "x^5 + x^4 + x^3 + x^2 + 1"
      ]
     },
     "execution_count": 13,
     "metadata": {},
     "output_type": "execute_result"
    }
   ],
   "source": [
    "(a^3).minimal_polynomial()"
   ]
  },
  {
   "cell_type": "code",
   "execution_count": 14,
   "metadata": {},
   "outputs": [
    {
     "data": {
      "text/plain": [
       "x^10 + x^9 + x^8 + x^6 + x^5 + x^3 + 1"
      ]
     },
     "execution_count": 14,
     "metadata": {},
     "output_type": "execute_result"
    }
   ],
   "source": [
    "g=lcm(x^5 + x^4 + x^3 + x^2 + 1, x^5 + x^2 + 1);g"
   ]
  },
  {
   "cell_type": "code",
   "execution_count": null,
   "metadata": {},
   "outputs": [],
   "source": [
    "F.<x> = GF(2)[]"
   ]
  },
  {
   "cell_type": "code",
   "execution_count": null,
   "metadata": {},
   "outputs": [],
   "source": [
    "g=x^10 + x^9 + x^8 + x^6 + x^5 + x^3 + 1"
   ]
  },
  {
   "cell_type": "code",
   "execution_count": 15,
   "metadata": {},
   "outputs": [],
   "source": [
    "C=codes.CyclicCode(generator_pol=g, length=31)"
   ]
  },
  {
   "cell_type": "code",
   "execution_count": 16,
   "metadata": {},
   "outputs": [
    {
     "data": {
      "text/plain": [
       "[31, 21] Cyclic Code over GF(2)"
      ]
     },
     "execution_count": 16,
     "metadata": {},
     "output_type": "execute_result"
    }
   ],
   "source": [
    "C"
   ]
  },
  {
   "cell_type": "code",
   "execution_count": 17,
   "metadata": {},
   "outputs": [
    {
     "data": {
      "text/plain": [
       "5"
      ]
     },
     "execution_count": 17,
     "metadata": {},
     "output_type": "execute_result"
    }
   ],
   "source": [
    "C.minimum_distance()"
   ]
  },
  {
   "cell_type": "markdown",
   "metadata": {},
   "source": [
    "2. Построение поля через неприводимый полином "
   ]
  },
  {
   "cell_type": "code",
   "execution_count": 18,
   "metadata": {},
   "outputs": [],
   "source": [
    "P.<x> = PolynomialRing(GF(5)); f = x^2 +x+1; k.<b> = GF(25, modulus=f)"
   ]
  },
  {
   "cell_type": "code",
   "execution_count": 19,
   "metadata": {},
   "outputs": [
    {
     "data": {
      "text/plain": [
       "True"
      ]
     },
     "execution_count": 19,
     "metadata": {},
     "output_type": "execute_result"
    }
   ],
   "source": [
    "f.is_irreducible()"
   ]
  },
  {
   "cell_type": "code",
   "execution_count": 20,
   "metadata": {},
   "outputs": [
    {
     "data": {
      "text/plain": [
       "True"
      ]
     },
     "execution_count": 20,
     "metadata": {},
     "output_type": "execute_result"
    }
   ],
   "source": [
    "k.is_field()"
   ]
  },
  {
   "cell_type": "code",
   "execution_count": 21,
   "metadata": {},
   "outputs": [
    {
     "data": {
      "text/plain": [
       "3"
      ]
     },
     "execution_count": 21,
     "metadata": {},
     "output_type": "execute_result"
    }
   ],
   "source": [
    "b.multiplicative_order()"
   ]
  },
  {
   "cell_type": "code",
   "execution_count": 26,
   "metadata": {},
   "outputs": [
    {
     "name": "stdout",
     "output_type": "stream",
     "text": [
      "24 -- b + 2\n",
      "12 -- 3*b + 3\n",
      "8 -- b + 3\n",
      "6 -- 4*b\n",
      "24 -- 4*b + 1\n",
      "4 -- 3\n",
      "24 -- 3*b + 1\n",
      "3 -- 4*b + 4\n",
      "8 -- 3*b + 4\n",
      "12 -- 2*b\n",
      "24 -- 2*b + 3\n",
      "2 -- 4\n",
      "24 -- 4*b + 3\n",
      "12 -- 2*b + 2\n",
      "8 -- 4*b + 2\n",
      "3 -- b\n",
      "24 -- b + 4\n",
      "4 -- 2\n",
      "24 -- 2*b + 4\n",
      "6 -- b + 1\n",
      "8 -- 2*b + 1\n",
      "12 -- 3*b\n",
      "24 -- 3*b + 2\n",
      "1 -- 1\n"
     ]
    }
   ],
   "source": [
    "for t in k:\n",
    "    if not t.is_zero():\n",
    "        print(t.multiplicative_order(), \"--\", t)"
   ]
  },
  {
   "cell_type": "code",
   "execution_count": 27,
   "metadata": {},
   "outputs": [
    {
     "data": {
      "text/plain": [
       "x^2 + 4*x + 2"
      ]
     },
     "execution_count": 27,
     "metadata": {},
     "output_type": "execute_result"
    }
   ],
   "source": [
    "conway_polynomial(5,2)"
   ]
  },
  {
   "cell_type": "code",
   "execution_count": 28,
   "metadata": {},
   "outputs": [],
   "source": [
    "P.<x> = PolynomialRing(GF(5)); f = x^2 + 4*x + 2; k.<b> = GF(25, modulus=f)"
   ]
  },
  {
   "cell_type": "code",
   "execution_count": 29,
   "metadata": {},
   "outputs": [
    {
     "data": {
      "text/plain": [
       "24"
      ]
     },
     "execution_count": 29,
     "metadata": {},
     "output_type": "execute_result"
    }
   ],
   "source": [
    "b.multiplicative_order()"
   ]
  },
  {
   "cell_type": "code",
   "execution_count": null,
   "metadata": {},
   "outputs": [],
   "source": []
  }
 ],
 "metadata": {
  "kernelspec": {
   "display_name": "SageMath 9.3",
   "language": "sage",
   "name": "sagemath"
  },
  "language_info": {
   "codemirror_mode": {
    "name": "ipython",
    "version": 3
   },
   "file_extension": ".py",
   "mimetype": "text/x-python",
   "name": "python",
   "nbconvert_exporter": "python",
   "pygments_lexer": "ipython3",
   "version": "3.7.10"
  }
 },
 "nbformat": 4,
 "nbformat_minor": 4
}

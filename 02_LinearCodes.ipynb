{
 "cells": [
  {
   "cell_type": "markdown",
   "metadata": {},
   "source": [
    "## Задание линейных кодов в Sage"
   ]
  },
  {
   "cell_type": "markdown",
   "metadata": {},
   "source": [
    "### 1. Задание с помощью порождающей матрицы"
   ]
  },
  {
   "cell_type": "code",
   "execution_count": 47,
   "metadata": {},
   "outputs": [],
   "source": [
    "# Задание матрицы\n",
    "M = matrix(GF(2), [[1, 0, 0, 1, 0],\\\n",
    "                   [0, 0, 1, 1, 1],\\\n",
    "                   [0, 1, 0, 1, 1]])"
   ]
  },
  {
   "cell_type": "code",
   "execution_count": 7,
   "metadata": {},
   "outputs": [
    {
     "data": {
      "text/plain": [
       "[1 0 0 1 0]\n",
       "[0 0 1 1 1]\n",
       "[0 1 0 1 1]"
      ]
     },
     "execution_count": 7,
     "metadata": {},
     "output_type": "execute_result"
    }
   ],
   "source": [
    "#Просмотр матрицы M\n",
    "M"
   ]
  },
  {
   "cell_type": "code",
   "execution_count": 48,
   "metadata": {},
   "outputs": [],
   "source": [
    "# Определение линейного кода с помощью матрицы\n",
    "C = codes.LinearCode(M)"
   ]
  },
  {
   "cell_type": "code",
   "execution_count": 60,
   "metadata": {},
   "outputs": [
    {
     "name": "stdout",
     "output_type": "stream",
     "text": [
      "[5, 3] linear code over GF(2)\n"
     ]
    }
   ],
   "source": [
    "print(C)"
   ]
  },
  {
   "cell_type": "code",
   "execution_count": 49,
   "metadata": {},
   "outputs": [
    {
     "data": {
      "text/plain": [
       "[(0, 0, 0, 0, 0),\n",
       " (1, 0, 0, 1, 0),\n",
       " (0, 0, 1, 1, 1),\n",
       " (1, 0, 1, 0, 1),\n",
       " (0, 1, 0, 1, 1),\n",
       " (1, 1, 0, 0, 1),\n",
       " (0, 1, 1, 0, 0),\n",
       " (1, 1, 1, 1, 0)]"
      ]
     },
     "execution_count": 49,
     "metadata": {},
     "output_type": "execute_result"
    }
   ],
   "source": [
    "# Просмотр элементов кода\n",
    "C.list()"
   ]
  },
  {
   "cell_type": "code",
   "execution_count": 59,
   "metadata": {},
   "outputs": [
    {
     "name": "stdout",
     "output_type": "stream",
     "text": [
      "(0, 0, 0, 0, 0) wt= 0\n",
      "(1, 0, 0, 1, 0) wt= 2\n",
      "(0, 0, 1, 1, 1) wt= 3\n",
      "(1, 0, 1, 0, 1) wt= 3\n",
      "(0, 1, 0, 1, 1) wt= 3\n",
      "(1, 1, 0, 0, 1) wt= 3\n",
      "(0, 1, 1, 0, 0) wt= 2\n",
      "(1, 1, 1, 1, 0) wt= 4\n"
     ]
    }
   ],
   "source": [
    "# Итерирование по всем элементам кода C и вычисление веса Хемминга для каждого элемента\n",
    "for c in C:\n",
    "    print(c, \"wt=\", c.hamming_weight())"
   ]
  },
  {
   "cell_type": "code",
   "execution_count": 51,
   "metadata": {},
   "outputs": [
    {
     "data": {
      "text/plain": [
       "[1 0 0 1 0]\n",
       "[0 0 1 1 1]\n",
       "[0 1 0 1 1]"
      ]
     },
     "execution_count": 51,
     "metadata": {},
     "output_type": "execute_result"
    }
   ],
   "source": [
    "# Порождающая матрица \n",
    "C.generator_matrix()"
   ]
  },
  {
   "cell_type": "code",
   "execution_count": 52,
   "metadata": {},
   "outputs": [
    {
     "data": {
      "text/plain": [
       "[1 0 0 1 0]\n",
       "[0 1 0 1 1]\n",
       "[0 0 1 1 1]"
      ]
     },
     "execution_count": 52,
     "metadata": {},
     "output_type": "execute_result"
    }
   ],
   "source": [
    "# Систематический вид для порождающей матрицы\n",
    "C.systematic_generator_matrix()"
   ]
  },
  {
   "cell_type": "code",
   "execution_count": 53,
   "metadata": {},
   "outputs": [
    {
     "data": {
      "text/plain": [
       "[1 0 0 1 1]\n",
       "[0 1 1 0 1]"
      ]
     },
     "execution_count": 53,
     "metadata": {},
     "output_type": "execute_result"
    }
   ],
   "source": [
    "# Проверочная матрица\n",
    "C.parity_check_matrix()"
   ]
  },
  {
   "cell_type": "code",
   "execution_count": 56,
   "metadata": {},
   "outputs": [
    {
     "data": {
      "text/plain": [
       "5"
      ]
     },
     "execution_count": 56,
     "metadata": {},
     "output_type": "execute_result"
    }
   ],
   "source": [
    "#Кодовое расстояние\n",
    "print(C.minimum_distance())\n"
   ]
  },
  {
   "cell_type": "code",
   "execution_count": null,
   "metadata": {},
   "outputs": [],
   "source": [
    "#Размерность кода\n",
    "C.dimension()\n"
   ]
  },
  {
   "cell_type": "code",
   "execution_count": null,
   "metadata": {},
   "outputs": [],
   "source": [
    "# Длина кода\n",
    "C.length()"
   ]
  },
  {
   "cell_type": "code",
   "execution_count": 18,
   "metadata": {},
   "outputs": [],
   "source": [
    "# Кодер (энкодер), кодирующий сообщение в код\n",
    "Encoder=C.encoder()"
   ]
  },
  {
   "cell_type": "code",
   "execution_count": 19,
   "metadata": {},
   "outputs": [],
   "source": [
    "# исходное сообщение\n",
    "message=vector(GF(2), [1,1,1])"
   ]
  },
  {
   "cell_type": "code",
   "execution_count": 20,
   "metadata": {},
   "outputs": [
    {
     "data": {
      "text/plain": [
       "(1, 1, 1, 1, 0)"
      ]
     },
     "execution_count": 20,
     "metadata": {},
     "output_type": "execute_result"
    }
   ],
   "source": [
    "Encoder(message)"
   ]
  },
  {
   "cell_type": "code",
   "execution_count": 21,
   "metadata": {},
   "outputs": [
    {
     "data": {
      "text/plain": [
       "(1, 1, 1, 1, 0)"
      ]
     },
     "execution_count": 21,
     "metadata": {},
     "output_type": "execute_result"
    }
   ],
   "source": [
    "message*M"
   ]
  },
  {
   "cell_type": "code",
   "execution_count": 22,
   "metadata": {},
   "outputs": [
    {
     "name": "stdout",
     "output_type": "stream",
     "text": [
      "(0, 0, 0, 0, 0)\n",
      "(0, 1, 0, 1, 1)\n",
      "(0, 0, 1, 1, 1)\n",
      "(0, 1, 1, 0, 0)\n",
      "(1, 0, 0, 1, 0)\n",
      "(1, 1, 0, 0, 1)\n",
      "(1, 0, 1, 0, 1)\n",
      "(1, 1, 1, 1, 0)\n"
     ]
    }
   ],
   "source": [
    "for i in [0,1]:\n",
    "    for j in [0,1]:\n",
    "        for k in [0,1]:\n",
    "            message=vector(GF(2), [i,j,k])\n",
    "            print(Encoder(message))"
   ]
  },
  {
   "cell_type": "markdown",
   "metadata": {},
   "source": [
    "### Специальные коды в Sage"
   ]
  },
  {
   "cell_type": "code",
   "execution_count": 24,
   "metadata": {},
   "outputs": [
    {
     "data": {
      "text/plain": [
       "[7, 4] Hamming Code over GF(2)"
      ]
     },
     "execution_count": 24,
     "metadata": {},
     "output_type": "execute_result"
    }
   ],
   "source": [
    "# Код Хемминга порядка m=3. Длина кода 2^m-1, размерность 2^m-1-m\n",
    "H = codes.HammingCode(GF(2),3);H"
   ]
  },
  {
   "cell_type": "code",
   "execution_count": 57,
   "metadata": {},
   "outputs": [],
   "source": [
    "# Функция для вывода параметров кода \n",
    "def printParameters(C):\n",
    "    print('Порождающая матрица: ')\n",
    "    print(C.generator_matrix())\n",
    "    print('Проверочная матрица: ')\n",
    "    print(C.parity_check_matrix())\n",
    "    print('Кодовое расстояние = ', C.minimum_distance())\n",
    "    print('Размерность = ', C.dimension())\n",
    "    print('Длина = ', C.length())"
   ]
  },
  {
   "cell_type": "code",
   "execution_count": 26,
   "metadata": {},
   "outputs": [
    {
     "name": "stdout",
     "output_type": "stream",
     "text": [
      "Порождающая матрица: \n",
      "[1 0 0 0 0 1 1]\n",
      "[0 1 0 0 1 0 1]\n",
      "[0 0 1 0 1 1 0]\n",
      "[0 0 0 1 1 1 1]\n",
      "Проверочная матрица: \n",
      "[1 0 1 0 1 0 1]\n",
      "[0 1 1 0 0 1 1]\n",
      "[0 0 0 1 1 1 1]\n",
      "Кодовое расстояние =  3\n",
      "Размерность =  4\n",
      "Длина =  7\n"
     ]
    }
   ],
   "source": [
    "printParameters(H)"
   ]
  },
  {
   "cell_type": "code",
   "execution_count": 27,
   "metadata": {},
   "outputs": [],
   "source": [
    "# Двоичный (расширенный) код Голея\n",
    "GC=codes.GolayCode(GF(2))"
   ]
  },
  {
   "cell_type": "code",
   "execution_count": 28,
   "metadata": {},
   "outputs": [
    {
     "data": {
      "text/plain": [
       "[24, 12, 8] Extended Golay code over GF(2)"
      ]
     },
     "execution_count": 28,
     "metadata": {},
     "output_type": "execute_result"
    }
   ],
   "source": [
    "print(GC)"
   ]
  },
  {
   "cell_type": "code",
   "execution_count": 29,
   "metadata": {},
   "outputs": [
    {
     "name": "stdout",
     "output_type": "stream",
     "text": [
      "Порождающая матрица: \n",
      "[1 0 0 0 0 0 0 0 0 0 0 0 1 0 1 0 1 1 1 0 0 0 1 1]\n",
      "[0 1 0 0 0 0 0 0 0 0 0 0 1 1 1 1 1 0 0 1 0 0 1 0]\n",
      "[0 0 1 0 0 0 0 0 0 0 0 0 1 1 0 1 0 0 1 0 1 0 1 1]\n",
      "[0 0 0 1 0 0 0 0 0 0 0 0 1 1 0 0 0 1 1 1 0 1 1 0]\n",
      "[0 0 0 0 1 0 0 0 0 0 0 0 1 1 0 0 1 1 0 1 1 0 0 1]\n",
      "[0 0 0 0 0 1 0 0 0 0 0 0 0 1 1 0 0 1 1 0 1 1 0 1]\n",
      "[0 0 0 0 0 0 1 0 0 0 0 0 0 0 1 1 0 0 1 1 0 1 1 1]\n",
      "[0 0 0 0 0 0 0 1 0 0 0 0 1 0 1 1 0 1 1 1 1 0 0 0]\n",
      "[0 0 0 0 0 0 0 0 1 0 0 0 0 1 0 1 1 0 1 1 1 1 0 0]\n",
      "[0 0 0 0 0 0 0 0 0 1 0 0 0 0 1 0 1 1 0 1 1 1 1 0]\n",
      "[0 0 0 0 0 0 0 0 0 0 1 0 1 0 1 1 1 0 0 0 1 1 0 1]\n",
      "[0 0 0 0 0 0 0 0 0 0 0 1 0 1 0 1 1 1 0 0 0 1 1 1]\n",
      "Проверочная матрица: \n",
      "[1 0 0 0 0 0 0 0 0 0 0 0 1 0 1 0 1 1 1 0 0 0 1 1]\n",
      "[0 1 0 0 0 0 0 0 0 0 0 0 1 1 1 1 1 0 0 1 0 0 1 0]\n",
      "[0 0 1 0 0 0 0 0 0 0 0 0 1 1 0 1 0 0 1 0 1 0 1 1]\n",
      "[0 0 0 1 0 0 0 0 0 0 0 0 1 1 0 0 0 1 1 1 0 1 1 0]\n",
      "[0 0 0 0 1 0 0 0 0 0 0 0 1 1 0 0 1 1 0 1 1 0 0 1]\n",
      "[0 0 0 0 0 1 0 0 0 0 0 0 0 1 1 0 0 1 1 0 1 1 0 1]\n",
      "[0 0 0 0 0 0 1 0 0 0 0 0 0 0 1 1 0 0 1 1 0 1 1 1]\n",
      "[0 0 0 0 0 0 0 1 0 0 0 0 1 0 1 1 0 1 1 1 1 0 0 0]\n",
      "[0 0 0 0 0 0 0 0 1 0 0 0 0 1 0 1 1 0 1 1 1 1 0 0]\n",
      "[0 0 0 0 0 0 0 0 0 1 0 0 0 0 1 0 1 1 0 1 1 1 1 0]\n",
      "[0 0 0 0 0 0 0 0 0 0 1 0 1 0 1 1 1 0 0 0 1 1 0 1]\n",
      "[0 0 0 0 0 0 0 0 0 0 0 1 0 1 0 1 1 1 0 0 0 1 1 1]\n",
      "Кодовое расстояние =  8\n",
      "Размерность =  12\n",
      "Длина =  24\n"
     ]
    }
   ],
   "source": [
    "printParameters(GC)"
   ]
  },
  {
   "cell_type": "markdown",
   "metadata": {},
   "source": [
    "### Кодирование и декодирование линейных кодов"
   ]
  },
  {
   "cell_type": "code",
   "execution_count": 3,
   "metadata": {},
   "outputs": [
    {
     "data": {
      "text/plain": [
       "[(0, 0, 0, 0, 0), (1, 0, 1, 1, 0), (0, 1, 0, 1, 1), (1, 1, 1, 0, 1)]"
      ]
     },
     "execution_count": 3,
     "metadata": {},
     "output_type": "execute_result"
    }
   ],
   "source": [
    "# Построим новый код по порождающей матрице\n",
    "G = matrix(GF(2), [[1, 0, 1, 1, 0],\\\n",
    "                   [0, 1, 0, 1, 1]]);\n",
    "C=codes.LinearCode(G);\n",
    "C.list()"
   ]
  },
  {
   "cell_type": "code",
   "execution_count": 62,
   "metadata": {},
   "outputs": [
    {
     "data": {
      "text/plain": [
       "[(0, 0, 0, 0, 0), (1, 0, 1, 1, 0), (0, 1, 0, 1, 1), (1, 1, 1, 0, 1)]"
      ]
     },
     "execution_count": 62,
     "metadata": {},
     "output_type": "execute_result"
    }
   ],
   "source": [
    "C.list()"
   ]
  },
  {
   "cell_type": "code",
   "execution_count": 63,
   "metadata": {},
   "outputs": [
    {
     "data": {
      "text/plain": [
       "3"
      ]
     },
     "execution_count": 63,
     "metadata": {},
     "output_type": "execute_result"
    }
   ],
   "source": [
    "C.minimum_distance()"
   ]
  },
  {
   "cell_type": "code",
   "execution_count": 5,
   "metadata": {},
   "outputs": [
    {
     "data": {
      "text/plain": [
       "Generator matrix-based encoder for [5, 2] linear code over GF(2)"
      ]
     },
     "execution_count": 5,
     "metadata": {},
     "output_type": "execute_result"
    }
   ],
   "source": [
    "#encoder кода C\n",
    "Encoder=C.encoder(); Encoder\n"
   ]
  },
  {
   "cell_type": "code",
   "execution_count": 6,
   "metadata": {},
   "outputs": [
    {
     "data": {
      "text/plain": [
       "(1, 1, 1, 0, 1)"
      ]
     },
     "execution_count": 6,
     "metadata": {},
     "output_type": "execute_result"
    }
   ],
   "source": [
    "# Зададаим информационное сообщение\n",
    "message=vector(GF(2), [1,1]);\n",
    "# Закодируем информациооное сообщение = message*G \n",
    "word=Encoder(message); word"
   ]
  },
  {
   "cell_type": "code",
   "execution_count": 8,
   "metadata": {},
   "outputs": [],
   "source": [
    "#Зададим вектор ошибок \n",
    "err_vect = vector(GF(2), (0, 0, 0, 0, 1))\n",
    "#Слово, в котором произошла она ошибка \n",
    "word_err = word+err_vect"
   ]
  },
  {
   "cell_type": "code",
   "execution_count": 9,
   "metadata": {},
   "outputs": [
    {
     "data": {
      "text/plain": [
       "Syndrome decoder for [5, 2] linear code over GF(2) handling errors of weight up to 2"
      ]
     },
     "execution_count": 9,
     "metadata": {},
     "output_type": "execute_result"
    }
   ],
   "source": [
    "# decoder кода C \n",
    "Decoder=C.decoder(); Decoder"
   ]
  },
  {
   "cell_type": "code",
   "execution_count": 40,
   "metadata": {},
   "outputs": [
    {
     "data": {
      "text/plain": [
       "(1, 1, 1, 0, 1)"
      ]
     },
     "execution_count": 40,
     "metadata": {},
     "output_type": "execute_result"
    }
   ],
   "source": [
    "# Декодирование вектора без ошибок\n",
    "Decoder.decode_to_code(word)"
   ]
  },
  {
   "cell_type": "code",
   "execution_count": 37,
   "metadata": {},
   "outputs": [
    {
     "data": {
      "text/plain": [
       "(1, 1, 1, 0, 1)"
      ]
     },
     "execution_count": 37,
     "metadata": {},
     "output_type": "execute_result"
    }
   ],
   "source": [
    "# Декдирование вектора с одной ошибкой\n",
    "Decoder.decode_to_code(word_err)"
   ]
  },
  {
   "cell_type": "code",
   "execution_count": 41,
   "metadata": {},
   "outputs": [
    {
     "data": {
      "text/plain": [
       "(1, 1)"
      ]
     },
     "execution_count": 41,
     "metadata": {},
     "output_type": "execute_result"
    }
   ],
   "source": [
    "# Получение вектора информационных символов\n",
    "Decoder.decode_to_message(word_err)"
   ]
  },
  {
   "cell_type": "code",
   "execution_count": 11,
   "metadata": {},
   "outputs": [
    {
     "data": {
      "text/plain": [
       "Syndrome decoder for [5, 2] linear code over GF(2) handling errors of weight up to 2"
      ]
     },
     "execution_count": 11,
     "metadata": {},
     "output_type": "execute_result"
    }
   ],
   "source": [
    "# список синдромов и лидеров смежных классов\n",
    "D=codes.decoders.LinearCodeSyndromeDecoder(C); D"
   ]
  },
  {
   "cell_type": "code",
   "execution_count": 69,
   "metadata": {},
   "outputs": [
    {
     "data": {
      "text/plain": [
       "{(0, 0, 0): (0, 0, 0, 0, 0),\n",
       " (1, 0, 0): (1, 0, 0, 0, 0),\n",
       " (0, 1, 0): (0, 1, 0, 0, 0),\n",
       " (0, 0, 1): (0, 0, 1, 0, 0),\n",
       " (1, 0, 1): (0, 0, 0, 1, 0),\n",
       " (1, 1, 1): (0, 0, 0, 0, 1),\n",
       " (1, 1, 0): (1, 1, 0, 0, 0),\n",
       " (0, 1, 1): (1, 0, 0, 0, 1)}"
      ]
     },
     "execution_count": 69,
     "metadata": {},
     "output_type": "execute_result"
    }
   ],
   "source": [
    "T=D.syndrome_table(); T"
   ]
  },
  {
   "cell_type": "code",
   "execution_count": 45,
   "metadata": {},
   "outputs": [],
   "source": [
    "# Функция для вывода членов смежного класса вектора v по подпространству C\n",
    "def cosetList(C, v): \n",
    "    l=[]\n",
    "    v=vector(GF(2), v)\n",
    "    for x in C.list():\n",
    "        l.append(v+x)\n",
    "    return l"
   ]
  },
  {
   "cell_type": "code",
   "execution_count": 46,
   "metadata": {},
   "outputs": [
    {
     "name": "stdout",
     "output_type": "stream",
     "text": [
      "Синдром:  (0, 0, 0)\n",
      "Лидер класса:  (0, 0, 0, 0, 0)\n",
      "Члены смежного класса:  [(0, 0, 0, 0, 0), (1, 0, 1, 1, 0), (0, 1, 0, 1, 1), (1, 1, 1, 0, 1)] \n",
      "\n",
      "Синдром:  (1, 0, 0)\n",
      "Лидер класса:  (1, 0, 0, 0, 0)\n",
      "Члены смежного класса:  [(1, 0, 0, 0, 0), (0, 0, 1, 1, 0), (1, 1, 0, 1, 1), (0, 1, 1, 0, 1)] \n",
      "\n",
      "Синдром:  (0, 1, 0)\n",
      "Лидер класса:  (0, 1, 0, 0, 0)\n",
      "Члены смежного класса:  [(0, 1, 0, 0, 0), (1, 1, 1, 1, 0), (0, 0, 0, 1, 1), (1, 0, 1, 0, 1)] \n",
      "\n",
      "Синдром:  (0, 0, 1)\n",
      "Лидер класса:  (0, 0, 1, 0, 0)\n",
      "Члены смежного класса:  [(0, 0, 1, 0, 0), (1, 0, 0, 1, 0), (0, 1, 1, 1, 1), (1, 1, 0, 0, 1)] \n",
      "\n",
      "Синдром:  (1, 0, 1)\n",
      "Лидер класса:  (0, 0, 0, 1, 0)\n",
      "Члены смежного класса:  [(0, 0, 0, 1, 0), (1, 0, 1, 0, 0), (0, 1, 0, 0, 1), (1, 1, 1, 1, 1)] \n",
      "\n",
      "Синдром:  (1, 1, 1)\n",
      "Лидер класса:  (0, 0, 0, 0, 1)\n",
      "Члены смежного класса:  [(0, 0, 0, 0, 1), (1, 0, 1, 1, 1), (0, 1, 0, 1, 0), (1, 1, 1, 0, 0)] \n",
      "\n",
      "Синдром:  (1, 1, 0)\n",
      "Лидер класса:  (1, 1, 0, 0, 0)\n",
      "Члены смежного класса:  [(1, 1, 0, 0, 0), (0, 1, 1, 1, 0), (1, 0, 0, 1, 1), (0, 0, 1, 0, 1)] \n",
      "\n",
      "Синдром:  (0, 1, 1)\n",
      "Лидер класса:  (1, 0, 0, 0, 1)\n",
      "Члены смежного класса:  [(1, 0, 0, 0, 1), (0, 0, 1, 1, 1), (1, 1, 0, 1, 0), (0, 1, 1, 0, 0)] \n",
      "\n"
     ]
    }
   ],
   "source": [
    "for s in T:\n",
    "    print(\"Синдром: \", s)\n",
    "    print(\"Лидер класса: \", T[s])\n",
    "    print(\"Члены смежного класса: \", cosetList(C, T[s]), \"\\n\")"
   ]
  }
 ],
 "metadata": {
  "kernelspec": {
   "display_name": "SageMath 9.3",
   "language": "sage",
   "name": "sagemath"
  },
  "language_info": {
   "codemirror_mode": {
    "name": "ipython",
    "version": 3
   },
   "file_extension": ".py",
   "mimetype": "text/x-python",
   "name": "python",
   "nbconvert_exporter": "python",
   "pygments_lexer": "ipython3",
   "version": "3.7.10"
  }
 },
 "nbformat": 4,
 "nbformat_minor": 4
}
